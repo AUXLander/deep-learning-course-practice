{
 "cells": [
  {
   "cell_type": "markdown",
   "id": "d93537be",
   "metadata": {},
   "source": [
    "# Deep learning\n",
    "### Back propagation"
   ]
  },
  {
   "cell_type": "code",
   "execution_count": 8,
   "id": "0378591a",
   "metadata": {},
   "outputs": [],
   "source": [
    "from tensorflow import keras\n",
    "from keras.datasets import mnist\n",
    "import time\n",
    "import numpy as np\n",
    "import idx2numpy\n",
    "import pandas as pd\n",
    "\n",
    "IMG_SIZE = 28\n",
    "INNER_LAYER_SIZE = 300\n",
    "OUT_SIZE = 10\n",
    "\n",
    "(train_X, train_y), (test_X, test_y) = mnist.load_data()"
   ]
  },
  {
   "cell_type": "code",
   "execution_count": 9,
   "id": "ef98eb77",
   "metadata": {},
   "outputs": [
    {
     "name": "stdout",
     "output_type": "stream",
     "text": [
      "X_train: (60000, 784)\n",
      "Y_train: (60000, 10)\n",
      "X_train: (10000, 784)\n",
      "Y_train: (10000, 10)\n"
     ]
    }
   ],
   "source": [
    "def dataConverter (x, y, imgSIZE = 28, outSIZE = 10):\n",
    "    y = np.eye(outSIZE)[y]\n",
    "    x = x/255\n",
    "    x = x.reshape((x.shape[0], imgSIZE * imgSIZE))\n",
    "    return x,y\n",
    "\n",
    "def printData (x,y):\n",
    "    print('X_train: ' + str(x.shape))\n",
    "    print('Y_train: ' + str(y.shape))\n",
    "    \n",
    "train_X, train_y = dataConverter(train_X, train_y)\n",
    "test_X, test_y = dataConverter(test_X, test_y)\n",
    "\n",
    "printData(train_X, train_y)\n",
    "printData(test_X,test_y)"
   ]
  },
  {
   "cell_type": "code",
   "execution_count": 10,
   "id": "8acd7820",
   "metadata": {},
   "outputs": [],
   "source": [
    "def ReLU(x):\n",
    "    return np.maximum(0, x)\n",
    "\n",
    "def ReLU_derivative(values):\n",
    "    result = [1 if x > 0 else 0 for x in values]\n",
    "    return result\n",
    "\n",
    "def softmax(x):\n",
    "    exp = np.exp(x)\n",
    "    return exp / np.sum(exp, axis = 1, keepdims = True)\n",
    "\n",
    "def crossEntropyLoss(x, y):\n",
    "    return np.mean(-np.sum(x * np.log(y), axis=1))\n",
    "\n",
    "def precision(x1, x2):\n",
    "    return np.mean(np.argmax(x1, axis=1) == np.argmax(x2, axis=1))"
   ]
  },
  {
   "cell_type": "code",
   "execution_count": 11,
   "id": "644ecf75",
   "metadata": {},
   "outputs": [],
   "source": [
    "class NeuralNetwork():\n",
    "    \n",
    "    def __init__(self, nnDims = [IMG_SIZE*IMG_SIZE, INNER_LAYER_SIZE, OUT_SIZE], learningRate=0.1, batchSize = 32 , epochs = 20):\n",
    "        inpL = nnDims[0]\n",
    "        hidL = nnDims[1]\n",
    "        outL = nnDims[2]                \n",
    "        self.learningRate = learningRate\n",
    "        self.batchSize = batchSize\n",
    "        self.epochs = epochs\n",
    "      \n",
    "        self.w1 = np.random.normal(0, np.sqrt(2 / inpL), [inpL, hidL])\n",
    "        self.b1 = np.zeros((1, hidL))\n",
    "        self.w2 = np.random.normal(0, np.sqrt(2 / (inpL + outL)), [hidL, outL])\n",
    "        self.b2 = np.zeros((1, outL))\n",
    "        \n",
    "    def forward(self, x):\n",
    "        self.v1 = x @ self.w1 + self.b1\n",
    "        self.u1 = ReLU(self.v1)\n",
    "        self.v2 = self.u1 @ self.w2 + self.b2\n",
    "        self.u2 = softmax(self.v2)\n",
    "\n",
    "    def backPropagation(self, x_train, y_train):\n",
    "        dv2 = (self.u2 - y_train) / self.u2.shape[0]\n",
    "        dw1 = self.u1.T @ dv2\n",
    "        db1 = np.sum(dv2, axis = 0, keepdims = True)        \n",
    "        dv1 = dv2 @ self.w2.T * np.where (self.v1 > 0, 1, 0)\n",
    "        dw0 = x_train.T @ dv1\n",
    "        db0 = np.sum(dv1, axis = 0, keepdims = True)\n",
    "        \n",
    "        self.w2 -= self.learningRate * dw1\n",
    "        self.b2 -= self.learningRate * db1\n",
    "        self.w1 -= self.learningRate * dw0        \n",
    "        self.b1 -= self.learningRate * db0\n",
    "        \n",
    "    def train(self, x_train, y_train):\n",
    "        epochTime = []\n",
    "        epochLoss = []\n",
    "        epochPrecision = []\n",
    "        fullTime = time.time()\n",
    "        for epoch in range(self.epochs):\n",
    "            startEpoch = time.time()\n",
    "            startPos = 0\n",
    "            while startPos + self.batchSize <= len(x_train):\n",
    "                x_cut = x_train[startPos : startPos + self.batchSize]\n",
    "                y_cut = y_train[startPos : startPos + self.batchSize]\n",
    "                self.forward(x_cut)\n",
    "                self.backPropagation(x_cut, y_cut)\n",
    "                startPos += self.batchSize           \n",
    "            self.forward(x_train)\n",
    "            epochTime.append(time.time() - startEpoch)\n",
    "            epochLoss.append(crossEntropyLoss(y_train, self.u2))\n",
    "            epochPrecision.append(precision(y_train, self.u2))\n",
    "            \n",
    "        fullTime = (time.time() - fullTime)\n",
    "        df = pd.DataFrame({'Epoch iteration': [*range(1, self.epochs + 1, 1)],\n",
    "                          'Time spent': epochTime,\n",
    "                          'Cross-entropy val': epochLoss,\n",
    "                          'Precision': epochPrecision})\n",
    "        df.set_index('Epoch iteration', inplace=True)\n",
    "        pd.set_option('display.width', 100)\n",
    "        print(df)\n",
    "        print('Overall training time', fullTime)\n",
    "\n",
    "    def test(self, x_test, y_test):\n",
    "        self.forward(x_test)\n",
    "        print('Test Cross-entropy Value', crossEntropyLoss(y_test, self.u2))\n",
    "        print('Test Precision', precision(y_test, self.u2))"
   ]
  },
  {
   "cell_type": "code",
   "execution_count": 12,
   "id": "61287b86",
   "metadata": {},
   "outputs": [
    {
     "name": "stdout",
     "output_type": "stream",
     "text": [
      "                 Time spent  Cross-entropy val  Precision\n",
      "Epoch iteration                                          \n",
      "1                  3.099235           0.180703   0.946267\n",
      "2                  3.092032           0.117660   0.965050\n",
      "3                  3.065874           0.087943   0.973950\n",
      "4                  3.114700           0.068477   0.979833\n",
      "5                  3.254263           0.055585   0.983883\n",
      "6                  3.282206           0.046757   0.986217\n",
      "7                  3.077783           0.039650   0.988533\n",
      "8                  3.349922           0.033985   0.990567\n",
      "9                  3.327118           0.029160   0.992117\n",
      "10                 3.175586           0.025297   0.993383\n",
      "11                 3.202433           0.021961   0.994583\n",
      "12                 3.106688           0.019192   0.995600\n",
      "13                 3.128008           0.017119   0.996117\n",
      "14                 3.186492           0.015361   0.996583\n",
      "15                 3.239408           0.013858   0.997000\n",
      "16                 3.186497           0.012546   0.997417\n",
      "17                 3.210412           0.011272   0.998033\n",
      "18                 3.211427           0.010288   0.998400\n",
      "19                 3.091735           0.009415   0.998717\n",
      "20                 3.187892           0.008516   0.998950\n",
      "Overall training time 63.807121992111206\n"
     ]
    }
   ],
   "source": [
    "nn = NeuralNetwork()\n",
    "nn.train(train_X, train_y)"
   ]
  },
  {
   "cell_type": "code",
   "execution_count": 13,
   "id": "ea548dba",
   "metadata": {},
   "outputs": [
    {
     "name": "stdout",
     "output_type": "stream",
     "text": [
      "Test Cross-entropy Value 0.06838752439217122\n",
      "Test Precision 0.9796\n"
     ]
    }
   ],
   "source": [
    "nn.test(test_X, test_y)"
   ]
  },
  {
   "cell_type": "code",
   "execution_count": null,
   "id": "8a93e7d5",
   "metadata": {},
   "outputs": [],
   "source": []
  }
 ],
 "metadata": {
  "kernelspec": {
   "display_name": "Python 3 (ipykernel)",
   "language": "python",
   "name": "python3"
  },
  "language_info": {
   "codemirror_mode": {
    "name": "ipython",
    "version": 3
   },
   "file_extension": ".py",
   "mimetype": "text/x-python",
   "name": "python",
   "nbconvert_exporter": "python",
   "pygments_lexer": "ipython3",
   "version": "3.9.7"
  }
 },
 "nbformat": 4,
 "nbformat_minor": 5
}
