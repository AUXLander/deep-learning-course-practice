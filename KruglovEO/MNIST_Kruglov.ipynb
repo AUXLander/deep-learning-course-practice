{
 "cells": [
  {
   "cell_type": "code",
   "execution_count": 34,
   "id": "56e58017",
   "metadata": {},
   "outputs": [
    {
     "name": "stdout",
     "output_type": "stream",
     "text": [
      "EPOCH 0\n"
     ]
    },
    {
     "name": "stderr",
     "output_type": "stream",
     "text": [
      "d:\\university\\deep_learning\\deep-learning-course-practice\\venv\\lib\\site-packages\\ipykernel_launcher.py:63: RuntimeWarning: overflow encountered in multiply\n",
      "d:\\university\\deep_learning\\deep-learning-course-practice\\venv\\lib\\site-packages\\ipykernel_launcher.py:63: RuntimeWarning: overflow encountered in matmul\n",
      "d:\\university\\deep_learning\\deep-learning-course-practice\\venv\\lib\\site-packages\\ipykernel_launcher.py:63: RuntimeWarning: invalid value encountered in matmul\n",
      "d:\\university\\deep_learning\\deep-learning-course-practice\\venv\\lib\\site-packages\\ipykernel_launcher.py:53: RuntimeWarning: invalid value encountered in matmul\n"
     ]
    },
    {
     "name": "stdout",
     "output_type": "stream",
     "text": [
      "EPOCH 1\n",
      "EPOCH 2\n",
      "EPOCH 3\n",
      "EPOCH 4\n",
      "EPOCH 5\n",
      "EPOCH 6\n",
      "EPOCH 7\n",
      "EPOCH 8\n",
      "EPOCH 9\n",
      "EPOCH 10\n",
      "EPOCH 11\n"
     ]
    },
    {
     "ename": "KeyboardInterrupt",
     "evalue": "",
     "output_type": "error",
     "traceback": [
      "\u001b[1;31m---------------------------------------------------------------------------\u001b[0m",
      "\u001b[1;31mKeyboardInterrupt\u001b[0m                         Traceback (most recent call last)",
      "\u001b[1;32m~\\AppData\\Local\\Temp/ipykernel_15836/2885337371.py\u001b[0m in \u001b[0;36m<module>\u001b[1;34m\u001b[0m\n\u001b[0;32m     80\u001b[0m         \u001b[0mtargets\u001b[0m \u001b[1;33m=\u001b[0m \u001b[0mnp\u001b[0m\u001b[1;33m.\u001b[0m\u001b[0mzeros\u001b[0m\u001b[1;33m(\u001b[0m\u001b[1;36m10\u001b[0m\u001b[1;33m)\u001b[0m \u001b[1;33m+\u001b[0m \u001b[1;36m0.01\u001b[0m\u001b[1;33m\u001b[0m\u001b[0m\n\u001b[0;32m     81\u001b[0m         \u001b[0mtargets\u001b[0m\u001b[1;33m[\u001b[0m\u001b[0mlabel\u001b[0m\u001b[1;33m]\u001b[0m \u001b[1;33m=\u001b[0m \u001b[1;36m0.99\u001b[0m\u001b[1;33m\u001b[0m\u001b[0m\n\u001b[1;32m---> 82\u001b[1;33m         \u001b[0mmodel\u001b[0m\u001b[1;33m.\u001b[0m\u001b[0mtrain\u001b[0m\u001b[1;33m(\u001b[0m\u001b[0mimage\u001b[0m\u001b[1;33m,\u001b[0m \u001b[0mtargets\u001b[0m\u001b[1;33m)\u001b[0m\u001b[1;33m\u001b[0m\u001b[0m\n\u001b[0m\u001b[0;32m     83\u001b[0m \u001b[1;33m\u001b[0m\u001b[0m\n\u001b[0;32m     84\u001b[0m \u001b[0mscore\u001b[0m \u001b[1;33m=\u001b[0m \u001b[1;33m[\u001b[0m\u001b[1;33m]\u001b[0m\u001b[1;33m\u001b[0m\u001b[0m\n",
      "\u001b[1;32m~\\AppData\\Local\\Temp/ipykernel_15836/2885337371.py\u001b[0m in \u001b[0;36mtrain\u001b[1;34m(self, inputs, targets)\u001b[0m\n\u001b[0;32m     61\u001b[0m \u001b[1;33m\u001b[0m\u001b[0m\n\u001b[0;32m     62\u001b[0m         \u001b[0mself\u001b[0m\u001b[1;33m.\u001b[0m\u001b[0moutput_matrix\u001b[0m \u001b[1;33m-=\u001b[0m \u001b[0mself\u001b[0m\u001b[1;33m.\u001b[0m\u001b[0ml_rate\u001b[0m \u001b[1;33m*\u001b[0m \u001b[0mnp\u001b[0m\u001b[1;33m.\u001b[0m\u001b[0mmatmul\u001b[0m\u001b[1;33m(\u001b[0m\u001b[0mhidden_output\u001b[0m\u001b[1;33m.\u001b[0m\u001b[0mT\u001b[0m\u001b[1;33m,\u001b[0m \u001b[0mout_errors\u001b[0m \u001b[1;33m*\u001b[0m \u001b[0mout_output\u001b[0m \u001b[1;33m*\u001b[0m \u001b[1;33m(\u001b[0m\u001b[1;36m1.0\u001b[0m \u001b[1;33m-\u001b[0m \u001b[0mout_output\u001b[0m\u001b[1;33m)\u001b[0m\u001b[1;33m)\u001b[0m\u001b[1;33m\u001b[0m\u001b[0m\n\u001b[1;32m---> 63\u001b[1;33m         \u001b[0mself\u001b[0m\u001b[1;33m.\u001b[0m\u001b[0minput_matrix\u001b[0m \u001b[1;33m-=\u001b[0m \u001b[0mself\u001b[0m\u001b[1;33m.\u001b[0m\u001b[0ml_rate\u001b[0m \u001b[1;33m*\u001b[0m \u001b[0mnp\u001b[0m\u001b[1;33m.\u001b[0m\u001b[0mmatmul\u001b[0m\u001b[1;33m(\u001b[0m\u001b[0mtrain_inputs\u001b[0m\u001b[1;33m.\u001b[0m\u001b[0mT\u001b[0m\u001b[1;33m,\u001b[0m \u001b[0mhidden_errors\u001b[0m \u001b[1;33m*\u001b[0m \u001b[0mhidden_output\u001b[0m \u001b[1;33m*\u001b[0m \u001b[1;33m(\u001b[0m\u001b[1;36m1.0\u001b[0m \u001b[1;33m-\u001b[0m \u001b[0mhidden_output\u001b[0m\u001b[1;33m)\u001b[0m\u001b[1;33m)\u001b[0m\u001b[1;33m\u001b[0m\u001b[0m\n\u001b[0m\u001b[0;32m     64\u001b[0m \u001b[1;33m\u001b[0m\u001b[0m\n\u001b[0;32m     65\u001b[0m     \u001b[1;32mdef\u001b[0m \u001b[0mevaluate\u001b[0m\u001b[1;33m(\u001b[0m\u001b[0mself\u001b[0m\u001b[1;33m,\u001b[0m \u001b[0minputs\u001b[0m\u001b[1;33m)\u001b[0m\u001b[1;33m:\u001b[0m\u001b[1;33m\u001b[0m\u001b[0m\n",
      "\u001b[1;31mKeyboardInterrupt\u001b[0m: "
     ]
    }
   ],
   "source": [
    "import gzip\n",
    "import numpy as np\n",
    "from scipy import special\n",
    "\n",
    "EPOCHS = 20\n",
    "\n",
    "def extract_images(file, images_count):\n",
    "    f = gzip.open(file, 'r')\n",
    "    f.read(16)\n",
    "    buff = f.read(28 * 28 * images_count)\n",
    "    data = np.frombuffer(buff, dtype=np.uint8).astype(np.float32)\n",
    "    data = data.reshape(images_count, 1, 28, 28)\n",
    "    return data\n",
    "\n",
    "def extract_labels(file, images_count):\n",
    "    f = gzip.open(file, 'r')\n",
    "    f.read(8)\n",
    "    buff = f.read(images_count)\n",
    "    labels = np.frombuffer(buff, dtype=np.uint8).astype(np.int64)\n",
    "    return labels\n",
    "\n",
    "train_images = extract_images('train-images-idx3-ubyte.gz', 60000)\n",
    "test_images = extract_images('t10k-images-idx3-ubyte.gz', 10000)\n",
    "\n",
    "train_labels = extract_labels('train-labels-idx1-ubyte.gz', 60000)\n",
    "test_labels = extract_labels('t10k-labels-idx1-ubyte.gz', 10000)\n",
    "\n",
    "def relu(x):\n",
    "    x_copy = x.copy()\n",
    "    for i in range(len(x_copy)):\n",
    "        for j in range(len(x_copy)):\n",
    "            x_copy[i][j] = max(x_copy[i][j], 0)\n",
    "    return x_copy\n",
    "\n",
    "class MNIST:\n",
    "    \n",
    "    def __init__(self, inputs_count=28*28, hidden_count=300, output_count=10, l_rate=0.01):\n",
    "        self.input = inputs_count\n",
    "        self.h = hidden_count\n",
    "        self.output = output_count\n",
    "        self.l_rate = l_rate\n",
    "        \n",
    "        self.input_matrix = np.random.normal(0.0, pow(self.h, -0.5), (self.input, self.h))\n",
    "        self.output_matrix = np.random.normal(0.0, pow(self.output, -0.5), (self.h, self.output))\n",
    "        \n",
    "        self.hidden_activation = lambda x: relu(x) \n",
    "        self.out_activation = lambda x: special.softmax(x)\n",
    "        \n",
    "    def train(self, inputs, targets):\n",
    "        train_inputs = inputs.reshape(1, -1)\n",
    "        train_targets = targets.reshape(1, len(targets))\n",
    "        \n",
    "        hidden_input = np.matmul(train_inputs, self.input_matrix)\n",
    "        hidden_output = self.hidden_activation(hidden_input)\n",
    "        \n",
    "        out_input = np.matmul(hidden_output, self.output_matrix)\n",
    "        out_output = self.out_activation(out_input)\n",
    "        \n",
    "        out_errors = train_targets - out_output\n",
    "        hidden_errors = np.matmul(out_errors, self.output_matrix.T)\n",
    "        \n",
    "        self.output_matrix -= self.l_rate * np.matmul(hidden_output.T, out_errors * out_output * (1.0 - out_output))\n",
    "        self.input_matrix -= self.l_rate * np.matmul(train_inputs.T, hidden_errors * hidden_output * (1.0 - hidden_output))\n",
    "        \n",
    "    def evaluate(self, inputs):\n",
    "        evaluate_inputs = inputs.reshape(1, -1)\n",
    "        \n",
    "        hidden_input = np.matmul(evaluate_inputs, self.input_matrix)\n",
    "        hidden_output = self.hidden_activation(hidden_input)\n",
    "        \n",
    "        out_input = np.matmul(hidden_output, self.output_matrix)\n",
    "        out_output = self.out_activation(out_input)\n",
    "        \n",
    "        return out_output\n",
    "    \n",
    "model = MNIST()\n",
    "for e in range(EPOCHS):\n",
    "    print(\"EPOCH {}\".format(e))\n",
    "    for image, label in zip(train_images, train_labels):\n",
    "        targets = np.zeros(10) + 0.01\n",
    "        targets[label] = 0.99\n",
    "        model.train(image, targets)\n",
    "        \n",
    "score = []\n",
    "for image, label in zip(test_images, test_labels):\n",
    "    result = model.evaluate(image)\n",
    "    \n",
    "    if label == np.argmax(result.reshape(-1)):\n",
    "        score.append(1)\n",
    "    else:\n",
    "        score.append(0)\n",
    "\n",
    "score = np.array(score)\n",
    "print(\"performance = {}\".format(score.sum()/len(score)))\n",
    "        "
   ]
  },
  {
   "cell_type": "code",
   "execution_count": null,
   "id": "ded14dbe",
   "metadata": {},
   "outputs": [],
   "source": []
  }
 ],
 "metadata": {
  "kernelspec": {
   "display_name": "Python 3 (ipykernel)",
   "language": "python",
   "name": "python3"
  },
  "language_info": {
   "codemirror_mode": {
    "name": "ipython",
    "version": 3
   },
   "file_extension": ".py",
   "mimetype": "text/x-python",
   "name": "python",
   "nbconvert_exporter": "python",
   "pygments_lexer": "ipython3",
   "version": "3.7.0"
  }
 },
 "nbformat": 4,
 "nbformat_minor": 5
}
