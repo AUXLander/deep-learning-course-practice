{
 "cells": [
  {
   "cell_type": "code",
   "execution_count": 1,
   "metadata": {
    "colab": {
     "base_uri": "https://localhost:8080/"
    },
    "id": "odj5OOT3fiLf",
    "outputId": "117f7c55-767d-4851-84e5-14e1d41d9229"
   },
   "outputs": [
    {
     "name": "stdout",
     "output_type": "stream",
     "text": [
      "Collecting wget\n",
      "  Downloading wget-3.2.zip (10 kB)\n",
      "Building wheels for collected packages: wget\n",
      "  Building wheel for wget (setup.py) ... \u001b[?25l\u001b[?25hdone\n",
      "  Created wheel for wget: filename=wget-3.2-py3-none-any.whl size=9672 sha256=d33f09c7e28941ee6b43c766efe8ac7753823e89a870ce40e854daf8a7cdb389\n",
      "  Stored in directory: /root/.cache/pip/wheels/a1/b6/7c/0e63e34eb06634181c63adacca38b79ff8f35c37e3c13e3c02\n",
      "Successfully built wget\n",
      "Installing collected packages: wget\n",
      "Successfully installed wget-3.2\n"
     ]
    }
   ],
   "source": [
    "pip install wget"
   ]
  },
  {
   "cell_type": "code",
   "execution_count": 2,
   "metadata": {
    "colab": {
     "base_uri": "https://localhost:8080/",
     "height": 35
    },
    "id": "s3CiOHTdt3c7",
    "outputId": "562dfd6b-e319-49a8-a219-28953404f2c0"
   },
   "outputs": [
    {
     "data": {
      "application/vnd.google.colaboratory.intrinsic+json": {
       "type": "string"
      },
      "text/plain": [
       "'t10k-labels-idx1-ubyte.gz'"
      ]
     },
     "execution_count": 2,
     "metadata": {},
     "output_type": "execute_result"
    }
   ],
   "source": [
    "import wget\n",
    "wget.download('http://yann.lecun.com/exdb/mnist/train-images-idx3-ubyte.gz', 'train-images-idx3-ubyte.gz')\n",
    "wget.download('http://yann.lecun.com/exdb/mnist/train-labels-idx1-ubyte.gz', 'train-labels-idx1-ubyte.gz')\n",
    "wget.download('http://yann.lecun.com/exdb/mnist/t10k-images-idx3-ubyte.gz', 't10k-images-idx3-ubyte.gz')\n",
    "wget.download('http://yann.lecun.com/exdb/mnist/t10k-labels-idx1-ubyte.gz', 't10k-labels-idx1-ubyte.gz')"
   ]
  },
  {
   "cell_type": "code",
   "execution_count": 3,
   "metadata": {
    "id": "DyOIHy4zm8RJ"
   },
   "outputs": [],
   "source": [
    "import gzip\n",
    "import numpy as np\n",
    "from datetime import datetime\n",
    "\n",
    "def loadImages(file):\n",
    "  with gzip.open(file, 'r') as f:\n",
    "    magicNumber = int.from_bytes(f.read(4), 'big')\n",
    "    imageCount = int.from_bytes(f.read(4), 'big')\n",
    "    rowCount = int.from_bytes(f.read(4), 'big')\n",
    "    columnCount = int.from_bytes(f.read(4), 'big')\n",
    "    imageData = f.read()\n",
    "    images = np.frombuffer(imageData, dtype=np.uint8).reshape((imageCount, rowCount, columnCount))\n",
    "    return images\n",
    "\n",
    "def loadLabels(file):\n",
    "  with gzip.open(file, 'r') as f:\n",
    "    magicNumber = int.from_bytes(f.read(4), 'big')\n",
    "    labelCount = int.from_bytes(f.read(4), 'big')\n",
    "    labelData = f.read()\n",
    "    labels = np.frombuffer(labelData, dtype=np.uint8)\n",
    "    return labels\n",
    "\n",
    "imagesTrain = loadImages('train-images-idx3-ubyte.gz')\n",
    "labelsTrain = loadLabels('train-labels-idx1-ubyte.gz')\n",
    "imagesTest = loadImages('t10k-images-idx3-ubyte.gz')\n",
    "labelsTest = loadLabels('t10k-labels-idx1-ubyte.gz')\n",
    "\n",
    "imagesTrain = imagesTrain / 255.0\n",
    "imagesTrain = imagesTrain.reshape(imagesTrain.shape[0], 28 * 28)\n",
    "imagesTest = imagesTest / 255.0\n",
    "imagesTest = imagesTest.reshape(imagesTest.shape[0], 28 * 28)\n",
    "labelsTrain = np.eye(10)[labelsTrain]\n",
    "labelsTest = np.eye(10)[labelsTest]"
   ]
  },
  {
   "cell_type": "code",
   "execution_count": 4,
   "metadata": {
    "id": "3dRqcyfNC9hh"
   },
   "outputs": [],
   "source": [
    "def relu(x):\n",
    "  return np.maximum(x, 0)\n",
    "\n",
    "def softmax(x):\n",
    "  exp = np.exp(x)\n",
    "  return exp / np.sum(exp, axis = 1, keepdims = True)\n",
    "\n",
    "def crossEntropyLoss(x1, x2):\n",
    "  return np.mean(-np.sum(x1 * np.log(x2), axis=1))\n",
    "\n",
    "def accuracy(x1, x2):\n",
    "  return np.mean(np.argmax(x1, axis=1) == np.argmax(x2, axis=1))\n",
    "\n",
    "def derivativeRelu(x):\n",
    "  return np.where(x > 0.0, 1, 0)"
   ]
  },
  {
   "cell_type": "code",
   "execution_count": 31,
   "metadata": {
    "id": "DxZsU9w0CJqS"
   },
   "outputs": [],
   "source": [
    "class Network(object):\n",
    "  def __init__(self, inputLayer, hiddenLayer, outputLayer):\n",
    "    self.inputLayer = inputLayer\n",
    "    self.hiddenLayer = hiddenLayer\n",
    "    self.outputLayer = outputLayer\n",
    "    self.w = [np.random.normal(0, np.sqrt(2 / inputLayer), [inputLayer, hiddenLayer]),\n",
    "              np.random.normal(0, np.sqrt(2 / (inputLayer + outputLayer)), [hiddenLayer, outputLayer])]\n",
    "    self.b = [np.zeros((1, hiddenLayer)),\n",
    "              np.zeros((1, outputLayer))]\n",
    "\n",
    "  def forward(self, x):\n",
    "    self.z1 = np.dot(x, self.w[0]) + self.b[0]\n",
    "    self.a1 = relu(self.z1)\n",
    "    self.z2 = np.dot(self.a1, self.w[1]) + self.b[1]\n",
    "    self.a2 = softmax(self.z2)\n",
    "\n",
    "  def backward(self, xTrain, yTrain, learningRate):\n",
    "    dz2 = (self.a2 - yTrain) / self.a2.shape[0]\n",
    "    dw1 = (self.a1.T).dot(dz2)\n",
    "    db1 = np.sum(dz2, axis=0, keepdims=True)\n",
    "    dz1 = dz2.dot(self.w[1].T) * derivativeRelu(self.z1)\n",
    "    dw0 = np.dot(xTrain.T, dz1)\n",
    "    db0 = np.sum(dz1, axis=0, keepdims=True)\n",
    "\n",
    "    self.w[1] -= learningRate * dw1\n",
    "    self.b[1] -= learningRate * db1\n",
    "    self.w[0] -= learningRate * dw0\n",
    "    self.b[0] -= learningRate * db0\n",
    "\n",
    "  def train(self, xTrain, yTrain, epochs, learningRate, batchSize):\n",
    "    startTrain = datetime.now()\n",
    "    for epoch in range(epochs):\n",
    "      startEpoch = datetime.now()\n",
    "      iteration = 0\n",
    "      while iteration < len(xTrain):\n",
    "        xBatch = xTrain[iteration:iteration + batchSize]\n",
    "        yBatch = yTrain[iteration:iteration + batchSize]\n",
    "\n",
    "        self.forward(xBatch)\n",
    "        self.backward(xBatch, yBatch, learningRate)\n",
    "        iteration += batchSize\n",
    "\n",
    "      timeEpoch = (datetime.now() - startEpoch).total_seconds()\n",
    "      self.forward(xTrain)\n",
    "      crossEntropyValue = crossEntropyLoss(yTrain, self.a2)\n",
    "      accuracyValue = accuracy(yTrain, self.a2)\n",
    "\n",
    "      print('Epoch', epoch)\n",
    "      print('Time epoch', timeEpoch)\n",
    "      print('Loss', crossEntropyValue)\n",
    "      print('Accuracy', accuracyValue)\n",
    "    timeTrain = (datetime.now() - startTrain).total_seconds()\n",
    "    print('Total time', timeTrain)\n",
    "\n",
    "  def test(self, xTest, yTest):\n",
    "    self.forward(xTest)\n",
    "    crossEntropyValue = crossEntropyLoss(yTest, self.a2)\n",
    "    accuracyValue = accuracy(yTest, self.a2)\n",
    "\n",
    "    print('Loss', crossEntropyValue)\n",
    "    print('Accuracy', accuracyValue)"
   ]
  },
  {
   "cell_type": "code",
   "execution_count": 32,
   "metadata": {
    "id": "Bw5oPTO6j7vC"
   },
   "outputs": [],
   "source": [
    "network = Network(28*28, 300, 10)"
   ]
  },
  {
   "cell_type": "code",
   "execution_count": 33,
   "metadata": {
    "colab": {
     "base_uri": "https://localhost:8080/"
    },
    "id": "RNuHAv0Nfx07",
    "outputId": "0e6800c4-93d8-422c-e8f9-ac0fa260330b"
   },
   "outputs": [
    {
     "name": "stdout",
     "output_type": "stream",
     "text": [
      "Train\n",
      "Epoch 0\n",
      "Time epoch 8.60184\n",
      "Loss 0.131042807118646\n",
      "Accuracy 0.95955\n",
      "Epoch 1\n",
      "Time epoch 8.545444\n",
      "Loss 0.07899982233623773\n",
      "Accuracy 0.97625\n",
      "Epoch 2\n",
      "Time epoch 8.55831\n",
      "Loss 0.05697253458055288\n",
      "Accuracy 0.9823833333333334\n",
      "Epoch 3\n",
      "Time epoch 8.509837\n",
      "Loss 0.042378011409795024\n",
      "Accuracy 0.9869333333333333\n",
      "Epoch 4\n",
      "Time epoch 8.503092\n",
      "Loss 0.03460268380061981\n",
      "Accuracy 0.9892333333333333\n",
      "Epoch 5\n",
      "Time epoch 8.563248\n",
      "Loss 0.028139366844658495\n",
      "Accuracy 0.99125\n",
      "Epoch 6\n",
      "Time epoch 8.471364\n",
      "Loss 0.022343426730257306\n",
      "Accuracy 0.9933333333333333\n",
      "Epoch 7\n",
      "Time epoch 8.483773\n",
      "Loss 0.01935850740837974\n",
      "Accuracy 0.9942166666666666\n",
      "Epoch 8\n",
      "Time epoch 8.564465\n",
      "Loss 0.01725801182320215\n",
      "Accuracy 0.9947833333333334\n",
      "Epoch 9\n",
      "Time epoch 8.456696\n",
      "Loss 0.01425302552149714\n",
      "Accuracy 0.9959833333333333\n",
      "Epoch 10\n",
      "Time epoch 8.518659\n",
      "Loss 0.013590778150206512\n",
      "Accuracy 0.99625\n",
      "Epoch 11\n",
      "Time epoch 8.588828\n",
      "Loss 0.011272207960964837\n",
      "Accuracy 0.9969166666666667\n",
      "Epoch 12\n",
      "Time epoch 8.456255\n",
      "Loss 0.008264992279001128\n",
      "Accuracy 0.99815\n",
      "Epoch 13\n",
      "Time epoch 8.506783\n",
      "Loss 0.006136409092010223\n",
      "Accuracy 0.9989666666666667\n",
      "Epoch 14\n",
      "Time epoch 8.471313\n",
      "Loss 0.005163234881442845\n",
      "Accuracy 0.99925\n",
      "Epoch 15\n",
      "Time epoch 8.440064\n",
      "Loss 0.004375103032779187\n",
      "Accuracy 0.9995333333333334\n",
      "Epoch 16\n",
      "Time epoch 8.494306\n",
      "Loss 0.003790965472198202\n",
      "Accuracy 0.9997\n",
      "Epoch 17\n",
      "Time epoch 8.439711\n",
      "Loss 0.0033475229117496796\n",
      "Accuracy 0.9997833333333334\n",
      "Epoch 18\n",
      "Time epoch 8.513576\n",
      "Loss 0.0029404159847254596\n",
      "Accuracy 0.99985\n",
      "Epoch 19\n",
      "Time epoch 8.445838\n",
      "Loss 0.0026034809109108242\n",
      "Accuracy 0.99985\n",
      "Total time 194.164439\n"
     ]
    }
   ],
   "source": [
    "print('Train')\n",
    "network.train(imagesTrain, labelsTrain, 20, 0.1, 16)"
   ]
  },
  {
   "cell_type": "code",
   "execution_count": 35,
   "metadata": {
    "colab": {
     "base_uri": "https://localhost:8080/"
    },
    "id": "BtBD8OThj-7x",
    "outputId": "09cc1c9e-8b7d-4c95-b2ff-94f6fd73382d"
   },
   "outputs": [
    {
     "name": "stdout",
     "output_type": "stream",
     "text": [
      "Test\n",
      "Loss 0.06990405762963263\n",
      "Accuracy 0.9821\n"
     ]
    }
   ],
   "source": [
    "print('Test')\n",
    "network.test(imagesTest, labelsTest)"
   ]
  }
 ],
 "metadata": {
  "colab": {
   "collapsed_sections": [],
   "name": "DLLab.ipynb",
   "provenance": []
  },
  "kernelspec": {
   "display_name": "Python 3",
   "language": "python",
   "name": "python3"
  },
  "language_info": {
   "codemirror_mode": {
    "name": "ipython",
    "version": 3
   },
   "file_extension": ".py",
   "mimetype": "text/x-python",
   "name": "python",
   "nbconvert_exporter": "python",
   "pygments_lexer": "ipython3",
   "version": "3.8.3"
  }
 },
 "nbformat": 4,
 "nbformat_minor": 1
}
