{
 "cells": [
  {
   "cell_type": "code",
   "execution_count": 6,
   "metadata": {
    "colab": {
     "base_uri": "https://localhost:8080/"
    },
    "id": "odj5OOT3fiLf",
    "outputId": "0800a83f-f395-4a58-fb88-3135548027d3"
   },
   "outputs": [
    {
     "name": "stdout",
     "output_type": "stream",
     "text": [
      "Collecting wget\n",
      "  Downloading wget-3.2.zip (10 kB)\n",
      "Building wheels for collected packages: wget\n",
      "  Building wheel for wget (setup.py) ... \u001b[?25l\u001b[?25hdone\n",
      "  Created wheel for wget: filename=wget-3.2-py3-none-any.whl size=9672 sha256=7bb790c578b644adbb64bce8ebe2459290f9eed5b1f9e902cd15204850a7612c\n",
      "  Stored in directory: /root/.cache/pip/wheels/a1/b6/7c/0e63e34eb06634181c63adacca38b79ff8f35c37e3c13e3c02\n",
      "Successfully built wget\n",
      "Installing collected packages: wget\n",
      "Successfully installed wget-3.2\n"
     ]
    }
   ],
   "source": [
    "pip install wget"
   ]
  },
  {
   "cell_type": "code",
   "execution_count": 7,
   "metadata": {
    "colab": {
     "base_uri": "https://localhost:8080/",
     "height": 35
    },
    "id": "s3CiOHTdt3c7",
    "outputId": "d09f65e7-9717-491c-8c01-34e104aedb5e"
   },
   "outputs": [
    {
     "data": {
      "application/vnd.google.colaboratory.intrinsic+json": {
       "type": "string"
      },
      "text/plain": [
       "'t10k-labels-idx1-ubyte.gz'"
      ]
     },
     "execution_count": 7,
     "metadata": {},
     "output_type": "execute_result"
    }
   ],
   "source": [
    "import wget\n",
    "wget.download('http://yann.lecun.com/exdb/mnist/train-images-idx3-ubyte.gz', 'train-images-idx3-ubyte.gz')\n",
    "wget.download('http://yann.lecun.com/exdb/mnist/train-labels-idx1-ubyte.gz', 'train-labels-idx1-ubyte.gz')\n",
    "wget.download('http://yann.lecun.com/exdb/mnist/t10k-images-idx3-ubyte.gz', 't10k-images-idx3-ubyte.gz')\n",
    "wget.download('http://yann.lecun.com/exdb/mnist/t10k-labels-idx1-ubyte.gz', 't10k-labels-idx1-ubyte.gz')"
   ]
  },
  {
   "cell_type": "code",
   "execution_count": 8,
   "metadata": {
    "id": "DyOIHy4zm8RJ"
   },
   "outputs": [],
   "source": [
    "import gzip\n",
    "import numpy as np\n",
    "from datetime import datetime\n",
    "\n",
    "def loadImages(file):\n",
    "  with gzip.open(file, 'r') as f:\n",
    "    magicNumber = int.from_bytes(f.read(4), 'big')\n",
    "    imageCount = int.from_bytes(f.read(4), 'big')\n",
    "    rowCount = int.from_bytes(f.read(4), 'big')\n",
    "    columnCount = int.from_bytes(f.read(4), 'big')\n",
    "    imageData = f.read()\n",
    "    images = np.frombuffer(imageData, dtype=np.uint8).reshape((imageCount, rowCount, columnCount))\n",
    "    return images\n",
    "\n",
    "def loadLabels(file):\n",
    "  with gzip.open(file, 'r') as f:\n",
    "    magicNumber = int.from_bytes(f.read(4), 'big')\n",
    "    labelCount = int.from_bytes(f.read(4), 'big')\n",
    "    labelData = f.read()\n",
    "    labels = np.frombuffer(labelData, dtype=np.uint8)\n",
    "    return labels\n",
    "\n",
    "imagesTrain = loadImages('train-images-idx3-ubyte.gz')\n",
    "labelsTrain = loadLabels('train-labels-idx1-ubyte.gz')\n",
    "imagesTest = loadImages('t10k-images-idx3-ubyte.gz')\n",
    "labelsTest = loadLabels('t10k-labels-idx1-ubyte.gz')\n",
    "\n",
    "imagesTrain = imagesTrain / 255.0\n",
    "imagesTrain = imagesTrain.reshape(imagesTrain.shape[0], 28 * 28)\n",
    "imagesTest = imagesTest / 255.0\n",
    "imagesTest = imagesTest.reshape(imagesTest.shape[0], 28 * 28)\n",
    "labelsTrain = np.eye(10)[labelsTrain]\n",
    "labelsTest = np.eye(10)[labelsTest]"
   ]
  },
  {
   "cell_type": "code",
   "execution_count": 26,
   "metadata": {
    "id": "3dRqcyfNC9hh"
   },
   "outputs": [],
   "source": [
    "def relu(x):\n",
    "  return np.maximum(x, 0)\n",
    "\n",
    "def softmax(x):\n",
    "  exp = np.exp(x)\n",
    "  return exp / np.sum(exp, axis = 1, keepdims = True)\n",
    "\n",
    "def crossEntropyLoss(x1, x2):\n",
    "  return np.mean(-np.sum(x1 * np.log(x2), axis=1))\n",
    "\n",
    "def accuracy(x1, x2):\n",
    "  return np.mean(np.argmax(x1, axis=1) == np.argmax(x2, axis=1))\n",
    "\n",
    "def derivativeRelu(x):\n",
    "  return np.where(x > 0.0, 1, 0)"
   ]
  },
  {
   "cell_type": "code",
   "execution_count": 35,
   "metadata": {
    "id": "DxZsU9w0CJqS"
   },
   "outputs": [],
   "source": [
    "class Network(object):\n",
    "  def __init__(self, inputLayer, hiddenLayer, outputLayer):\n",
    "    self.inputLayer = inputLayer\n",
    "    self.hiddenLayer = hiddenLayer\n",
    "    self.outputLayer = outputLayer\n",
    "    self.w = [np.random.normal(0, 1, [inputLayer, hiddenLayer]),\n",
    "              np.random.normal(0, 1, [hiddenLayer, outputLayer])]\n",
    "    self.b = [np.zeros((1, hiddenLayer)),\n",
    "              np.zeros((1, outputLayer))]\n",
    "\n",
    "  def forward(self, x):\n",
    "    self.z1 = np.dot(x, self.w[0]) + self.b[0]\n",
    "    self.a1 = relu(self.z1)\n",
    "    self.z2 = np.dot(self.a1, self.w[1]) + self.b[1]\n",
    "    self.a2 = softmax(self.z2)\n",
    "\n",
    "  def backward(self, xTrain, yTrain, learningRate):\n",
    "    dz2 = (self.a2 - yTrain) / self.a2.shape[0]\n",
    "    dw1 = (self.a1.T).dot(dz2)\n",
    "    db1 = np.sum(dz2, axis=0, keepdims=True)\n",
    "    dz1 = dz2.dot(self.w[1].T) * derivativeRelu(self.z1)\n",
    "    dw0 = np.dot(xTrain.T, dz1)\n",
    "    db0 = np.sum(dz1, axis=0, keepdims=True)\n",
    "\n",
    "    self.w[1] -= learningRate * dw1\n",
    "    self.b[1] -= learningRate * db1\n",
    "    self.w[0] -= learningRate * dw0\n",
    "    self.b[0] -= learningRate * db0\n",
    "\n",
    "  def train(self, xTrain, yTrain, epochs, learningRate, batchSize):\n",
    "    startTrain = datetime.now()\n",
    "    for epoch in range(epochs):\n",
    "      startEpoch = datetime.now()\n",
    "      iteration = 0\n",
    "      while iteration < len(xTrain):\n",
    "        xBatch = xTrain[iteration:iteration + batchSize]\n",
    "        yBatch = yTrain[iteration:iteration + batchSize]\n",
    "\n",
    "        self.forward(xBatch)\n",
    "        self.backward(xBatch, yBatch, learningRate)\n",
    "        iteration += batchSize\n",
    "\n",
    "      timeEpoch = (datetime.now() - startEpoch).total_seconds()\n",
    "      self.forward(xTrain)\n",
    "      crossEntropyValue = crossEntropyLoss(yTrain, self.a2)\n",
    "      accuracyValue = accuracy(yTrain, self.a2)\n",
    "\n",
    "      print('Epoch', epoch)\n",
    "      print('Time epoch', timeEpoch)\n",
    "      print('Loss', crossEntropyValue)\n",
    "      print('Accuracy', accuracyValue)\n",
    "    timeTrain = (datetime.now() - startTrain).total_seconds()\n",
    "    print('Total time', timeTrain)\n",
    "\n",
    "  def test(self, xTest, yTest):\n",
    "    self.forward(xTest)\n",
    "    crossEntropyValue = crossEntropyLoss(yTest, self.a2)\n",
    "    accuracyValue = accuracy(yTest, self.a2)\n",
    "\n",
    "    print('Loss', crossEntropyValue)\n",
    "    print('Accuracy', accuracyValue)"
   ]
  },
  {
   "cell_type": "code",
   "execution_count": 37,
   "metadata": {
    "id": "Bw5oPTO6j7vC"
   },
   "outputs": [],
   "source": [
    "network = Network(28*28, 300, 10)"
   ]
  },
  {
   "cell_type": "code",
   "execution_count": 38,
   "metadata": {
    "colab": {
     "base_uri": "https://localhost:8080/"
    },
    "id": "RNuHAv0Nfx07",
    "outputId": "36bbf394-0390-40cc-d8e1-b765fb225727"
   },
   "outputs": [
    {
     "name": "stdout",
     "output_type": "stream",
     "text": [
      "Train\n",
      "Epoch 0\n",
      "Time epoch 8.880507\n",
      "Loss 0.61368607421795\n",
      "Accuracy 0.9268833333333333\n",
      "Epoch 1\n",
      "Time epoch 8.735316\n",
      "Loss 0.2911768237394323\n",
      "Accuracy 0.9482666666666667\n",
      "Epoch 2\n",
      "Time epoch 8.855691\n",
      "Loss 0.19477649004463898\n",
      "Accuracy 0.9588166666666667\n",
      "Epoch 3\n",
      "Time epoch 8.998574\n",
      "Loss 0.15457187570460537\n",
      "Accuracy 0.9654333333333334\n",
      "Epoch 4\n",
      "Time epoch 8.801711\n",
      "Loss 0.1163837158947222\n",
      "Accuracy 0.9703333333333334\n",
      "Epoch 5\n",
      "Time epoch 8.794349\n",
      "Loss 0.09793781490976108\n",
      "Accuracy 0.9732166666666666\n",
      "Epoch 6\n",
      "Time epoch 8.768079\n",
      "Loss 0.08000282716458752\n",
      "Accuracy 0.9774666666666667\n",
      "Epoch 7\n",
      "Time epoch 8.702952\n",
      "Loss 0.065199741386376\n",
      "Accuracy 0.9795\n",
      "Epoch 8\n",
      "Time epoch 8.790993\n",
      "Loss 0.05155036271726798\n",
      "Accuracy 0.98305\n",
      "Epoch 9\n",
      "Time epoch 8.768513\n",
      "Loss 0.04436285025833039\n",
      "Accuracy 0.9854\n",
      "Epoch 10\n",
      "Time epoch 8.765692\n",
      "Loss 0.03635720876196398\n",
      "Accuracy 0.9877666666666667\n",
      "Epoch 11\n",
      "Time epoch 8.681065\n",
      "Loss 0.029201768341471677\n",
      "Accuracy 0.99015\n",
      "Epoch 12\n",
      "Time epoch 8.793364\n",
      "Loss 0.024359958701442738\n",
      "Accuracy 0.9918\n",
      "Epoch 13\n",
      "Time epoch 8.764129\n",
      "Loss 0.021058699434935966\n",
      "Accuracy 0.9927666666666667\n",
      "Epoch 14\n",
      "Time epoch 8.856717\n",
      "Loss 0.019110976692808247\n",
      "Accuracy 0.9937666666666667\n",
      "Epoch 15\n",
      "Time epoch 8.908974\n",
      "Loss 0.0157242079066689\n",
      "Accuracy 0.9949\n",
      "Epoch 16\n",
      "Time epoch 8.829568\n",
      "Loss 0.013568056305199017\n",
      "Accuracy 0.9955166666666667\n",
      "Epoch 17\n",
      "Time epoch 8.81006\n",
      "Loss 0.01132351202967948\n",
      "Accuracy 0.9964\n",
      "Epoch 18\n",
      "Time epoch 8.772351\n",
      "Loss 0.009834920598694057\n",
      "Accuracy 0.99705\n",
      "Epoch 19\n",
      "Time epoch 8.755189\n",
      "Loss 0.00884164686491191\n",
      "Accuracy 0.9975666666666667\n",
      "Total time 199.587723\n"
     ]
    }
   ],
   "source": [
    "print('Train')\n",
    "network.train(imagesTrain, labelsTrain, 20, 0.1, 16)"
   ]
  },
  {
   "cell_type": "code",
   "execution_count": 46,
   "metadata": {
    "colab": {
     "base_uri": "https://localhost:8080/"
    },
    "id": "BtBD8OThj-7x",
    "outputId": "f46d6abe-2174-46b3-8d56-ca4215a4aa11"
   },
   "outputs": [
    {
     "name": "stdout",
     "output_type": "stream",
     "text": [
      "Test\n",
      "Loss 0.42916094911051833\n",
      "Accuracy 0.9539\n"
     ]
    }
   ],
   "source": [
    "print('Test')\n",
    "network.test(imagesTest, labelsTest)"
   ]
  }
 ],
 "metadata": {
  "colab": {
   "collapsed_sections": [],
   "name": "DLLab.ipynb",
   "provenance": []
  },
  "kernelspec": {
   "display_name": "Python 3",
   "language": "python",
   "name": "python3"
  },
  "language_info": {
   "codemirror_mode": {
    "name": "ipython",
    "version": 3
   },
   "file_extension": ".py",
   "mimetype": "text/x-python",
   "name": "python",
   "nbconvert_exporter": "python",
   "pygments_lexer": "ipython3",
   "version": "3.8.3"
  }
 },
 "nbformat": 4,
 "nbformat_minor": 1
}
