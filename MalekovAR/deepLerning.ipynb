{
 "cells": [
  {
   "cell_type": "markdown",
   "metadata": {},
   "source": [
    "# Реализация метода обратного распространения ошибки для двуслойной полносвязной нейронной сети"
   ]
  },
  {
   "cell_type": "markdown",
   "metadata": {},
   "source": [
    "### Считывание данных:"
   ]
  },
  {
   "cell_type": "code",
   "execution_count": 13,
   "metadata": {},
   "outputs": [],
   "source": [
    "import os\n",
    "import functools\n",
    "import operator\n",
    "import gzip\n",
    "import struct\n",
    "import array\n",
    "import numpy as np\n",
    "import pandas as pd \n",
    "import matplotlib.cm as cm \n",
    "import matplotlib.pyplot as plt\n",
    "import os\n",
    "\n",
    "def parse_idx(fd):\n",
    "    DATA_TYPES = {0x08: 'B',  # unsigned byte\n",
    "                  0x09: 'b',  # signed byte\n",
    "                  0x0b: 'h',  # short (2 bytes)\n",
    "                  0x0c: 'i',  # int (4 bytes)\n",
    "                  0x0d: 'f',  # float (4 bytes)\n",
    "                  0x0e: 'd'}  # double (8 bytes)\n",
    "\n",
    "    header = fd.read(4)\n",
    "    zeros, data_type, num_dimensions = struct.unpack('>HBB', header)\n",
    "\n",
    "    data_type = DATA_TYPES[data_type]\n",
    "\n",
    "    dimension_sizes = struct.unpack('>' + 'I' * num_dimensions,\n",
    "                                    fd.read(4 * num_dimensions))\n",
    "    data = array.array(data_type, fd.read())\n",
    "    data.byteswap()  # looks like array.array reads data as little endian\n",
    "    expected_items = functools.reduce(operator.mul, dimension_sizes)\n",
    "    return np.array(data).reshape(dimension_sizes)\n",
    "\n",
    "def parceFile(name):\n",
    "    name = './data/' + name\n",
    "    fopen = gzip.open if os.path.splitext(name)[1] == '.gz' else open\n",
    "    with fopen(name, 'rb') as fd:\n",
    "        return parse_idx(fd)\n",
    "\n",
    "def loadData(type):\n",
    "    if type == 'trainX':\n",
    "        return parceFile('train-images-idx3-ubyte.gz')\n",
    "    if type == 'trainY':\n",
    "        return parceFile('train-labels-idx1-ubyte.gz')\n",
    "    if type == 'testX':\n",
    "        return parceFile('t10k-images-idx3-ubyte.gz')\n",
    "    if type == 'testY':\n",
    "        return parceFile('t10k-labels-idx1-ubyte.gz')"
   ]
  },
  {
   "cell_type": "code",
   "execution_count": 14,
   "metadata": {},
   "outputs": [],
   "source": [
    "train_x = loadData('trainX')\n",
    "train_y= loadData('trainY')\n",
    "\n",
    "test_x = loadData('testX')\n",
    "test_y = loadData('testY')"
   ]
  },
  {
   "cell_type": "markdown",
   "metadata": {},
   "source": [
    "### Представление цифр в датасете\n",
    "\n",
    "Каждая строка таблицы показывает одну из цифр, первый столбец `label` указывает на цифру в данной строке. Каждый элемент строки это количество серого цвета в пикселе, где 0 - его отсутствие а 255 - полностью черный."
   ]
  },
  {
   "cell_type": "code",
   "execution_count": 15,
   "metadata": {},
   "outputs": [
    {
     "name": "stdout",
     "output_type": "stream",
     "text": [
      "Обучающая выборка имеет  60000 элементов\n"
     ]
    }
   ],
   "source": [
    "print('Обучающая выборка имеет ', train_x.shape[0], 'элементов')"
   ]
  },
  {
   "cell_type": "code",
   "execution_count": 16,
   "metadata": {},
   "outputs": [
    {
     "data": {
      "image/png": "[encoded data removed]",
      "text/plain": [
       "<Figure size 432x288 with 1 Axes>"
      ]
     },
     "metadata": {
      "needs_background": "light"
     },
     "output_type": "display_data"
    }
   ],
   "source": [
    "plt.xlabel('Чило')\n",
    "plt.ylabel('Количество элементов в выборке')\n",
    "plt.bar([f'{i}' for i in range(0,10)], [np.count_nonzero(train_y == i) for i in range(0,10)], color='y')\n",
    "pass"
   ]
  },
  {
   "cell_type": "markdown",
   "metadata": {},
   "source": [
    "Тренировочные данные довольно сбалансированные, разброс по количеству элементов для разных классов небольшой.\n",
    "\n",
    "На вход сети должны подаваться изображения размером `w x h` нейронов, что соответствует разрешению одноканального изображения.\n",
    "Рассмотрим один элемент из предоставленных данных:"
   ]
  },
  {
   "cell_type": "code",
   "execution_count": 69,
   "metadata": {},
   "outputs": [
    {
     "data": {
      "image/png": "[encoded data removed]",
      "text/plain": [
       "<Figure size 432x288 with 1 Axes>"
      ]
     },
     "metadata": {
      "needs_background": "light"
     },
     "output_type": "display_data"
    }
   ],
   "source": [
    "plt.imshow(train_x[10020].reshape(28,28), cmap='gray_r')\n",
    "plt.show()\n",
    "pass"
   ]
  },
  {
   "cell_type": "markdown",
   "metadata": {},
   "source": [
    "Каждая строка таблицы показывает одну из цифр, первый столбец `label` указывает на цифру в данной строке. Каждый элемент строки это количество серого цвета в пикселе, где 0 - его отсутствие а 255 - полностью черный."
   ]
  },
  {
   "cell_type": "markdown",
   "metadata": {},
   "source": [
    "### Нормировка данных\n",
    "\n"
   ]
  },
  {
   "cell_type": "code",
   "execution_count": 18,
   "metadata": {},
   "outputs": [],
   "source": [
    "train_x = train_x.reshape(\n",
    "    train_x.shape[0], train_x.shape[1]*train_x.shape[2]).astype('float32')\n",
    "train_x = train_x / 255  # normalization\n",
    "train_y = np.eye(10)[train_y]  # convert label to one-hot\n",
    "\n",
    "# flatten 28x28 to 784x1 vectors, [60000, 784]\n",
    "test_x = test_x.reshape(\n",
    "    test_x.shape[0], test_x.shape[1]*test_x.shape[2]).astype('float32')\n",
    "test_x = test_x / 255  # normalization\n",
    "test_y = np.eye(10)[test_y]"
   ]
  },
  {
   "cell_type": "markdown",
   "metadata": {},
   "source": [
    "Определим функцию активации на скрытом слое `ReLU`:"
   ]
  },
  {
   "cell_type": "code",
   "execution_count": 45,
   "metadata": {},
   "outputs": [],
   "source": [
    "def relu(x):\n",
    "    return np.maximum(x, 0)\n",
    "\n",
    "def reluDerivative( x):\n",
    "        x[x <= 0] = 0\n",
    "        x[x > 0] = 1\n",
    "        return x"
   ]
  },
  {
   "cell_type": "markdown",
   "metadata": {},
   "source": [
    "Функция активации на выходном слое `softMax`:\n"
   ]
  },
  {
   "cell_type": "code",
   "execution_count": 46,
   "metadata": {},
   "outputs": [],
   "source": [
    "def softmax(x):\n",
    "    log_c = np.max(x, axis=x.ndim - 1, keepdims=True)\n",
    "    y = np.sum(np.exp(x - log_c), axis=x.ndim - 1, keepdims=True)\n",
    "    x = np.exp(x - log_c)/y\n",
    "\n",
    "    return x"
   ]
  },
  {
   "cell_type": "markdown",
   "metadata": {},
   "source": [
    "### Построение модели\n",
    "\n",
    "Создадим класс `NeuralNetwork` который будет содержать имплементацию основных методов нейронной сети\n",
    "\n",
    "* `__init__` -  конструктор класса\n",
    "    * `nn_input_dim` - кол-во нейронов на входе\n",
    "    * `nn_hdim` - кол-во нейронов в скрытом слое\n",
    "    * `nn_output_dim` - кол-во нейронов в выходном слое \n",
    "    * `seed` - инициализация для псевдорандома\n",
    "    * `learningRate` - скорость обучения\n",
    "    * `regTerm` -  регуляризацонный параметр\n",
    "* `train` - метод в котором реализовано обучение сети\n",
    "    * `train` - Объект содержащий вектор X и Y для обучения\n",
    "    * `test` -  Объект содержащий вектор X и Y для тестирования значений\n",
    "    * `nbEpochs` -  количестов эпох\n",
    "* `computeError` -  подсчет ошибки (кросс энтропия) на тестовой или обучающей выборке\n",
    "    * `data` - Объект содержащий вектор X и Y подсчета ошибок\n",
    "* `computeAcuracy` - подсчет точности на тестовой или обучающей выборке\n",
    "    * `data` - Объект содержащий вектор X и Y подсчета ошибок"
   ]
  },
  {
   "cell_type": "code",
   "execution_count": 91,
   "metadata": {},
   "outputs": [],
   "source": [
    "class NeuralNetwork():\n",
    "    def __init__(self, nn_input_dim, nn_hdim, nn_output_dim, seed=0, learningRate=0.01, regTerm=0.01, batch_size = 8):\n",
    "        np.random.seed(seed)\n",
    "        W1 = np.random.randn(nn_input_dim, nn_hdim) / np.sqrt(nn_input_dim)\n",
    "        b1 = np.zeros((1, nn_hdim))\n",
    "        W2 = np.random.randn(nn_hdim, nn_output_dim) / np.sqrt(nn_hdim)\n",
    "        b2 = np.zeros((1, nn_output_dim))\n",
    "        self.model = {'W1':W1, 'W2':W2, 'b1':b1, 'b2':b2 }\n",
    "        self.sizeInput = nn_input_dim\n",
    "        self.sizeHidden = nn_hdim\n",
    "        self.sizeOutput = nn_output_dim\n",
    "        self.learningRate = learningRate\n",
    "        self.regTerm = regTerm\n",
    "        self.batch_size = batch_size\n",
    "    \n",
    "    def train(self, train, test, nbEpochs=4, printLoss=True, everyEpoch=5):\n",
    "        X, Y = train\n",
    "        W1, b1, W2, b2 = self.model['W1'], self.model['b1'], self.model['W2'], self.model['b2']\n",
    "\n",
    "        for i in range(nbEpochs):\n",
    "            print(f\"--> Эпоха {i}\")\n",
    "            iteration = 0\n",
    "            while iteration < len(X):\n",
    "\n",
    "                inputs_batch = X[iteration:iteration+self.batch_size]\n",
    "                labels_batch = Y[iteration:iteration+self.batch_size]\n",
    "\n",
    "                z1 = inputs_batch.dot(W1) + b1\n",
    "                a1 = relu(z1)\n",
    "                z2 = a1.dot(W2) + b2\n",
    "                a2 = softmax(z2)\n",
    "\n",
    "                delta3 = (a2 - labels_batch) / a2.shape[0]\n",
    "                dW2 = (a1.T).dot(delta3)\n",
    "                db2 = np.sum(delta3, axis=0, keepdims=True)\n",
    "                delta2 = delta3.dot(W2.T) * reluDerivative(z1)\n",
    "                # delta2 = delta3.dot(W2.T)\n",
    "                # delta2[a1 <= 0] = 0\n",
    "                dW1 = np.dot(inputs_batch.T, delta2)\n",
    "                db1 = np.sum(delta2, axis=0, keepdims=True)\n",
    "\n",
    "                W1 += -self.learningRate * dW1\n",
    "                b1 += -self.learningRate * db1\n",
    "                W2 += -self.learningRate * dW2\n",
    "                b2 += -self.learningRate * db2\n",
    "\n",
    "                self.model = { 'W1': W1, 'b1': b1, 'W2': W2, 'b2': b2}\n",
    "                iteration += self.batch_size\n",
    "\n",
    "            if printLoss and i % everyEpoch == 0:\n",
    "                print('/' * 10)\n",
    "                error_test = self.computeError(test)\n",
    "                error_train = self.computeError(train)\n",
    "                \n",
    "                print(f\"Ошибка на тестовой выборке {error_test}\")\n",
    "                print(f\"Ошибка на обучающей выборке {error_train}\")\n",
    "\n",
    "                acc_test = self.computeAccuracy(test)\n",
    "                acс_train = self.computeAccuracy(train)\n",
    "\n",
    "                print(f\"Точность на тестовой выборке {acc_test}\")\n",
    "                print(f\"Точность на обучающей выборке {acс_train}\")\n",
    "                print('/' * 10)\n",
    "\n",
    "        error_test = self.computeError(test)\n",
    "        error_train = self.computeError(train)\n",
    "        print(\"ИТОГ:\")\n",
    "        print(f\"Ошибка на тестовой выборке {error_test}\")\n",
    "        print(f\"Ошибка на обучающей выборке {error_train}\")\n",
    "        acc_test = self.computeAccuracy(test)\n",
    "        acс_train = self.computeAccuracy(train)\n",
    "\n",
    "        print(f\"Точность на тестовой выборке {acc_test}\")\n",
    "        print(f\"Точность на обучающей выборке {acс_train}\")\n",
    "\n",
    "    def computeError(self, data):\n",
    "        X, Y = data\n",
    "        W1, b1, W2, b2 = self.model['W1'], self.model['b1'], self.model['W2'], self.model['b2']\n",
    "        z1 = X.dot(W1) + b1\n",
    "        a1 = relu(z1)\n",
    "        z2 = a1.dot(W2) + b2\n",
    "        a2 = softmax(z2)\n",
    "        \n",
    "        return np.mean(-np.sum(Y * np.log(a2), axis=1))\n",
    "    \n",
    "    def computeAccuracy(self, data):\n",
    "        X, Y = data\n",
    "        W1, b1, W2, b2 = self.model['W1'], self.model['b1'], self.model['W2'], self.model['b2']\n",
    "        z1 = X.dot(W1) + b1\n",
    "        a1 = relu(z1)\n",
    "        z2 = a1.dot(W2) + b2\n",
    "        a2 = softmax(z2)\n",
    "        return np.mean(np.argmax(Y, axis=1) == np.argmax(a2, axis=1))"
   ]
  },
  {
   "cell_type": "markdown",
   "metadata": {},
   "source": [
    "Создадим экземпляр нейронной сети и запустим обучение:"
   ]
  },
  {
   "cell_type": "code",
   "execution_count": 93,
   "metadata": {},
   "outputs": [
    {
     "name": "stdout",
     "output_type": "stream",
     "text": [
      "--> Эпоха 0\n",
      "//////////\n",
      "Ошибка на тестовой выборке 0.23494209447696868\n",
      "Ошибка на обучающей выборке 0.2392247937889265\n",
      "Точность на тестовой выборке 0.9299\n",
      "Точность на обучающей выборке 0.9293\n",
      "//////////\n",
      "--> Эпоха 1\n",
      "--> Эпоха 2\n",
      "--> Эпоха 3\n",
      "--> Эпоха 4\n",
      "--> Эпоха 5\n",
      "//////////\n",
      "Ошибка на тестовой выборке 0.09422477248576255\n",
      "Ошибка на обучающей выборке 0.07653052534834769\n",
      "Точность на тестовой выборке 0.9727\n",
      "Точность на обучающей выборке 0.97815\n",
      "//////////\n",
      "--> Эпоха 6\n",
      "--> Эпоха 7\n",
      "--> Эпоха 8\n",
      "--> Эпоха 9\n",
      "--> Эпоха 10\n",
      "//////////\n",
      "Ошибка на тестовой выборке 0.07658762395765634\n",
      "Ошибка на обучающей выборке 0.04364326996428415\n",
      "Точность на тестовой выборке 0.9778\n",
      "Точность на обучающей выборке 0.9877833333333333\n",
      "//////////\n",
      "--> Эпоха 11\n",
      "--> Эпоха 12\n",
      "--> Эпоха 13\n",
      "--> Эпоха 14\n",
      "--> Эпоха 15\n",
      "//////////\n",
      "Ошибка на тестовой выборке 0.07064264903358458\n",
      "Ошибка на обучающей выборке 0.028109649442891887\n",
      "Точность на тестовой выборке 0.9788\n",
      "Точность на обучающей выборке 0.99255\n",
      "//////////\n",
      "--> Эпоха 16\n",
      "--> Эпоха 17\n",
      "--> Эпоха 18\n",
      "--> Эпоха 19\n",
      "ИТОГ:\n",
      "Ошибка на тестовой выборке 0.06901849926876621\n",
      "Ошибка на обучающей выборке 0.020853446246931872\n",
      "Точность на тестовой выборке 0.9795\n",
      "Точность на обучающей выборке 0.9951\n"
     ]
    }
   ],
   "source": [
    "network = NeuralNetwork(784, 300, 10, seed = 1, learningRate = 0.1, batch_size = 60)\n",
    "\n",
    "network.train((train_x, train_y), (test_x, test_y), nbEpochs=20)\n"
   ]
  }
 ],
 "metadata": {
  "interpreter": {
   "hash": "aee8b7b246df8f9039afb4144a1f6fd8d2ca17a180786b69acc140d282b71a49"
  },
  "kernelspec": {
   "display_name": "Python 3.8.1 64-bit",
   "language": "python",
   "name": "python3"
  },
  "language_info": {
   "codemirror_mode": {
    "name": "ipython",
    "version": 3
   },
   "file_extension": ".py",
   "mimetype": "text/x-python",
   "name": "python",
   "nbconvert_exporter": "python",
   "pygments_lexer": "ipython3",
   "version": "3.8.1"
  },
  "orig_nbformat": 4
 },
 "nbformat": 4,
 "nbformat_minor": 2
}
