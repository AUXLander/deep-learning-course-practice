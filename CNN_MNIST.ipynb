{
 "cells": [
  {
   "cell_type": "code",
   "execution_count": 1,
   "id": "88816a46",
   "metadata": {},
   "outputs": [],
   "source": [
    "import os\n",
    "import functools\n",
    "import operator\n",
    "import gzip\n",
    "import struct\n",
    "import array\n",
    "import numpy as np\n",
    "import matplotlib.cm as cm \n",
    "import matplotlib.pyplot as plt\n",
    "import os\n",
    "from random import sample\n",
    "\n",
    "def show_images(img):\n",
    "    img = img / 2 + 0.5\n",
    "    npimg = img.numpy()\n",
    "    plt.imshow(np.transpose(npimg, (1, 2, 0)))\n",
    "    plt.show()\n",
    "\n",
    "def show_sample_grid(data, size_x, size_y):\n",
    "    f, axarr = plt.subplots(size_x,size_y)\n",
    "    for x in range(size_x):\n",
    "        for y in range(size_y):\n",
    "            index = np.random.randint(len(data))\n",
    "            image = data[index]\n",
    "            axarr[x,y].imshow(image.reshape(28,28), cmap='gray_r')\n",
    "    \n",
    "def fopen(filepath, options = 'rb'):\n",
    "\n",
    "    DATA_TYPES = {\n",
    "        0x08: 'B',  # unsigned byte\n",
    "        0x09: 'b',  # signed byte\n",
    "        0x0b: 'h',  # short (2 bytes)\n",
    "        0x0c: 'i',  # int (4 bytes)\n",
    "        0x0d: 'f',  # float (4 bytes)\n",
    "        0x0e: 'd'   # double (8 bytes)\n",
    "    }  \n",
    "\n",
    "    __fopen = open\n",
    "\n",
    "    if os.path.splitext(filepath)[1] == '.gz':\n",
    "        __fopen = gzip.open\n",
    "\n",
    "    with __fopen(filepath, options) as fd:\n",
    "        header = fd.read(4)\n",
    "        zeros, data_type, num_dimensions = struct.unpack('>HBB', header)\n",
    "\n",
    "        data_type = DATA_TYPES[data_type]\n",
    "\n",
    "        dimension_sizes = struct.unpack('>' + 'I' * num_dimensions,\n",
    "                                        fd.read(4 * num_dimensions))\n",
    "        data = array.array(data_type, fd.read())\n",
    "        data.byteswap()\n",
    "        expected_items = functools.reduce(operator.mul, dimension_sizes)\n",
    "\n",
    "        return np.array(data).reshape(dimension_sizes)\n",
    "\n",
    "def load_data_set(images_file_path, labels_file_path):\n",
    "    return fopen(images_file_path), fopen(labels_file_path)"
   ]
  },
  {
   "cell_type": "code",
   "execution_count": 2,
   "id": "2aa24e52",
   "metadata": {},
   "outputs": [],
   "source": [
    "train_x, train_y = load_data_set('train-images-idx3-ubyte.gz', 'train-labels-idx1-ubyte.gz')\n",
    "test_x,  test_y  = load_data_set('t10k-images-idx3-ubyte.gz',  't10k-labels-idx1-ubyte.gz')"
   ]
  },
  {
   "cell_type": "code",
   "execution_count": 3,
   "id": "46e924cf",
   "metadata": {},
   "outputs": [
    {
     "name": "stdout",
     "output_type": "stream",
     "text": [
      "Train shape size: x=(60000, 28, 28), y=(60000,)\n",
      "Test shape size:  x=(10000, 28, 28), y=(10000,)\n"
     ]
    }
   ],
   "source": [
    "print('Train shape size: x={}, y={}'.format(train_x.shape, train_y.shape))\n",
    "print('Test shape size:  x={}, y={}'.format(test_x.shape, test_y.shape))"
   ]
  },
  {
   "cell_type": "code",
   "execution_count": 4,
   "id": "9fbce52c",
   "metadata": {},
   "outputs": [
    {
     "data": {
      "image/png": "[encoded data removed]",
      "text/plain": [
       "<Figure size 640x480 with 9 Axes>"
      ]
     },
     "metadata": {},
     "output_type": "display_data"
    }
   ],
   "source": [
    "show_sample_grid(train_x, 3, 3)"
   ]
  },
  {
   "cell_type": "markdown",
   "id": "165d4e21",
   "metadata": {},
   "source": [
    "### Преобразуем данные"
   ]
  },
  {
   "cell_type": "code",
   "execution_count": null,
   "id": "3ba47798",
   "metadata": {},
   "outputs": [],
   "source": [
    "rgb_max_color_value = 255.0"
   ]
  },
  {
   "cell_type": "code",
   "execution_count": 5,
   "id": "01358239",
   "metadata": {},
   "outputs": [
    {
     "name": "stdout",
     "output_type": "stream",
     "text": [
      "Train shape size: x=(60000, 784), y=(60000,)\n"
     ]
    }
   ],
   "source": [
    "length, width, height = train_x.shape\n",
    "train_x = train_x.reshape(length, width * height) / rgb_max_color_value\n",
    "\n",
    "print('Train shape size: x={}, y={}'.format(train_x.shape, train_y.shape))"
   ]
  },
  {
   "cell_type": "code",
   "execution_count": 6,
   "id": "6d96e858",
   "metadata": {},
   "outputs": [
    {
     "name": "stdout",
     "output_type": "stream",
     "text": [
      "Test shape size:  x=(10000, 784), y=(10000,)\n"
     ]
    }
   ],
   "source": [
    "length, width, height = test_x.shape\n",
    "test_x = test_x.reshape(length, width * height) / rgb_max_color_value\n",
    "    \n",
    "print('Test shape size:  x={}, y={}'.format(test_x.shape, test_y.shape))"
   ]
  },
  {
   "cell_type": "code",
   "execution_count": null,
   "id": "6fae579b",
   "metadata": {},
   "outputs": [],
   "source": []
  }
 ],
 "metadata": {
  "kernelspec": {
   "display_name": "Python 3 (ipykernel)",
   "language": "python",
   "name": "python3"
  },
  "language_info": {
   "codemirror_mode": {
    "name": "ipython",
    "version": 3
   },
   "file_extension": ".py",
   "mimetype": "text/x-python",
   "name": "python",
   "nbconvert_exporter": "python",
   "pygments_lexer": "ipython3",
   "version": "3.9.15"
  }
 },
 "nbformat": 4,
 "nbformat_minor": 5
}
